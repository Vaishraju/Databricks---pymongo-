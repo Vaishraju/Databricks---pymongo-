{
 "cells": [
  {
   "cell_type": "markdown",
   "id": "bac88783-78c7-4a54-9796-70ee5770e9f9",
   "metadata": {},
   "source": [
    "## NoSQL MongoDB with Python\n"
   ]
  },
  {
   "cell_type": "code",
   "execution_count": 68,
   "id": "db398153-8543-47e4-9ada-7d5ad5b12cae",
   "metadata": {},
   "outputs": [
    {
     "name": "stdout",
     "output_type": "stream",
     "text": [
      "Requirement already satisfied: pymongo in /Users/vaishnaviet/opt/anaconda3/lib/python3.9/site-packages (4.2.0)\r\n"
     ]
    }
   ],
   "source": [
    "!pip install pymongo"
   ]
  },
  {
   "cell_type": "markdown",
   "id": "21fb9ff9-daf6-4260-ae3a-a5691ef19d32",
   "metadata": {},
   "source": [
    "#### Import Libaries"
   ]
  },
  {
   "cell_type": "code",
   "execution_count": 69,
   "id": "0b6e6659-a2d2-4ece-a548-9a7fba967299",
   "metadata": {},
   "outputs": [],
   "source": [
    "import pymongo\n",
    "import pandas as pd\n",
    "import json"
   ]
  },
  {
   "cell_type": "markdown",
   "id": "3e0788df-792a-4cee-a0b1-1c5b1658539a",
   "metadata": {},
   "source": [
    "#### Connect MongoDB "
   ]
  },
  {
   "cell_type": "code",
   "execution_count": 70,
   "id": "dc0fe9ed-22bb-408a-ab6c-32ddd1151c82",
   "metadata": {},
   "outputs": [],
   "source": [
    "client = pymongo.MongoClient(\"mongodb://localhost:27017/\")"
   ]
  },
  {
   "cell_type": "markdown",
   "id": "1c4fe535-aaeb-45e1-ba41-ef1863c09602",
   "metadata": {},
   "source": [
    "#### Load the CSV file"
   ]
  },
  {
   "cell_type": "code",
   "execution_count": 71,
   "id": "c976fff5-3158-4ee5-83ba-a066aa7d340c",
   "metadata": {},
   "outputs": [
    {
     "data": {
      "text/html": [
       "<div>\n",
       "<style scoped>\n",
       "    .dataframe tbody tr th:only-of-type {\n",
       "        vertical-align: middle;\n",
       "    }\n",
       "\n",
       "    .dataframe tbody tr th {\n",
       "        vertical-align: top;\n",
       "    }\n",
       "\n",
       "    .dataframe thead th {\n",
       "        text-align: right;\n",
       "    }\n",
       "</style>\n",
       "<table border=\"1\" class=\"dataframe\">\n",
       "  <thead>\n",
       "    <tr style=\"text-align: right;\">\n",
       "      <th></th>\n",
       "      <th>Age</th>\n",
       "      <th>Attrition</th>\n",
       "      <th>BusinessTravel</th>\n",
       "      <th>DailyRate</th>\n",
       "      <th>Department</th>\n",
       "      <th>DistanceFromHome</th>\n",
       "      <th>Education</th>\n",
       "      <th>EducationField</th>\n",
       "      <th>EmployeeCount</th>\n",
       "      <th>EmployeeNumber</th>\n",
       "      <th>...</th>\n",
       "      <th>RelationshipSatisfaction</th>\n",
       "      <th>StandardHours</th>\n",
       "      <th>StockOptionLevel</th>\n",
       "      <th>TotalWorkingYears</th>\n",
       "      <th>TrainingTimesLastYear</th>\n",
       "      <th>WorkLifeBalance</th>\n",
       "      <th>YearsAtCompany</th>\n",
       "      <th>YearsInCurrentRole</th>\n",
       "      <th>YearsSinceLastPromotion</th>\n",
       "      <th>YearsWithCurrManager</th>\n",
       "    </tr>\n",
       "  </thead>\n",
       "  <tbody>\n",
       "    <tr>\n",
       "      <th>0</th>\n",
       "      <td>41</td>\n",
       "      <td>Yes</td>\n",
       "      <td>Travel_Rarely</td>\n",
       "      <td>1102</td>\n",
       "      <td>Sales</td>\n",
       "      <td>1</td>\n",
       "      <td>2</td>\n",
       "      <td>Life Sciences</td>\n",
       "      <td>1</td>\n",
       "      <td>1</td>\n",
       "      <td>...</td>\n",
       "      <td>1</td>\n",
       "      <td>80</td>\n",
       "      <td>0</td>\n",
       "      <td>8</td>\n",
       "      <td>0</td>\n",
       "      <td>1</td>\n",
       "      <td>6</td>\n",
       "      <td>4</td>\n",
       "      <td>0</td>\n",
       "      <td>5</td>\n",
       "    </tr>\n",
       "    <tr>\n",
       "      <th>1</th>\n",
       "      <td>49</td>\n",
       "      <td>No</td>\n",
       "      <td>Travel_Frequently</td>\n",
       "      <td>279</td>\n",
       "      <td>Research &amp; Development</td>\n",
       "      <td>8</td>\n",
       "      <td>1</td>\n",
       "      <td>Life Sciences</td>\n",
       "      <td>1</td>\n",
       "      <td>2</td>\n",
       "      <td>...</td>\n",
       "      <td>4</td>\n",
       "      <td>80</td>\n",
       "      <td>1</td>\n",
       "      <td>10</td>\n",
       "      <td>3</td>\n",
       "      <td>3</td>\n",
       "      <td>10</td>\n",
       "      <td>7</td>\n",
       "      <td>1</td>\n",
       "      <td>7</td>\n",
       "    </tr>\n",
       "    <tr>\n",
       "      <th>2</th>\n",
       "      <td>37</td>\n",
       "      <td>Yes</td>\n",
       "      <td>Travel_Rarely</td>\n",
       "      <td>1373</td>\n",
       "      <td>Research &amp; Development</td>\n",
       "      <td>2</td>\n",
       "      <td>2</td>\n",
       "      <td>Other</td>\n",
       "      <td>1</td>\n",
       "      <td>4</td>\n",
       "      <td>...</td>\n",
       "      <td>2</td>\n",
       "      <td>80</td>\n",
       "      <td>0</td>\n",
       "      <td>7</td>\n",
       "      <td>3</td>\n",
       "      <td>3</td>\n",
       "      <td>0</td>\n",
       "      <td>0</td>\n",
       "      <td>0</td>\n",
       "      <td>0</td>\n",
       "    </tr>\n",
       "    <tr>\n",
       "      <th>3</th>\n",
       "      <td>33</td>\n",
       "      <td>No</td>\n",
       "      <td>Travel_Frequently</td>\n",
       "      <td>1392</td>\n",
       "      <td>Research &amp; Development</td>\n",
       "      <td>3</td>\n",
       "      <td>4</td>\n",
       "      <td>Life Sciences</td>\n",
       "      <td>1</td>\n",
       "      <td>5</td>\n",
       "      <td>...</td>\n",
       "      <td>3</td>\n",
       "      <td>80</td>\n",
       "      <td>0</td>\n",
       "      <td>8</td>\n",
       "      <td>3</td>\n",
       "      <td>3</td>\n",
       "      <td>8</td>\n",
       "      <td>7</td>\n",
       "      <td>3</td>\n",
       "      <td>0</td>\n",
       "    </tr>\n",
       "    <tr>\n",
       "      <th>4</th>\n",
       "      <td>27</td>\n",
       "      <td>No</td>\n",
       "      <td>Travel_Rarely</td>\n",
       "      <td>591</td>\n",
       "      <td>Research &amp; Development</td>\n",
       "      <td>2</td>\n",
       "      <td>1</td>\n",
       "      <td>Medical</td>\n",
       "      <td>1</td>\n",
       "      <td>7</td>\n",
       "      <td>...</td>\n",
       "      <td>4</td>\n",
       "      <td>80</td>\n",
       "      <td>1</td>\n",
       "      <td>6</td>\n",
       "      <td>3</td>\n",
       "      <td>3</td>\n",
       "      <td>2</td>\n",
       "      <td>2</td>\n",
       "      <td>2</td>\n",
       "      <td>2</td>\n",
       "    </tr>\n",
       "  </tbody>\n",
       "</table>\n",
       "<p>5 rows × 35 columns</p>\n",
       "</div>"
      ],
      "text/plain": [
       "   Age Attrition     BusinessTravel  DailyRate              Department  \\\n",
       "0   41       Yes      Travel_Rarely       1102                   Sales   \n",
       "1   49        No  Travel_Frequently        279  Research & Development   \n",
       "2   37       Yes      Travel_Rarely       1373  Research & Development   \n",
       "3   33        No  Travel_Frequently       1392  Research & Development   \n",
       "4   27        No      Travel_Rarely        591  Research & Development   \n",
       "\n",
       "   DistanceFromHome  Education EducationField  EmployeeCount  EmployeeNumber  \\\n",
       "0                 1          2  Life Sciences              1               1   \n",
       "1                 8          1  Life Sciences              1               2   \n",
       "2                 2          2          Other              1               4   \n",
       "3                 3          4  Life Sciences              1               5   \n",
       "4                 2          1        Medical              1               7   \n",
       "\n",
       "   ...  RelationshipSatisfaction StandardHours  StockOptionLevel  \\\n",
       "0  ...                         1            80                 0   \n",
       "1  ...                         4            80                 1   \n",
       "2  ...                         2            80                 0   \n",
       "3  ...                         3            80                 0   \n",
       "4  ...                         4            80                 1   \n",
       "\n",
       "   TotalWorkingYears  TrainingTimesLastYear WorkLifeBalance  YearsAtCompany  \\\n",
       "0                  8                      0               1               6   \n",
       "1                 10                      3               3              10   \n",
       "2                  7                      3               3               0   \n",
       "3                  8                      3               3               8   \n",
       "4                  6                      3               3               2   \n",
       "\n",
       "  YearsInCurrentRole  YearsSinceLastPromotion  YearsWithCurrManager  \n",
       "0                  4                        0                     5  \n",
       "1                  7                        1                     7  \n",
       "2                  0                        0                     0  \n",
       "3                  7                        3                     0  \n",
       "4                  2                        2                     2  \n",
       "\n",
       "[5 rows x 35 columns]"
      ]
     },
     "execution_count": 71,
     "metadata": {},
     "output_type": "execute_result"
    }
   ],
   "source": [
    "df = pd.read_csv(\"/Users/vaishnaviet/Downloads/EmployeeAttrition.csv\")\n",
    "df.head(5)"
   ]
  },
  {
   "cell_type": "markdown",
   "id": "a29fb50c-a38e-473e-a510-99fa420e4e5f",
   "metadata": {},
   "source": [
    "#### convert to Json"
   ]
  },
  {
   "cell_type": "code",
   "execution_count": 72,
   "id": "28416e61-60c1-43ae-ad35-12289c2f3f5e",
   "metadata": {},
   "outputs": [],
   "source": [
    "data = json.loads(df.to_json(orient='records'))"
   ]
  },
  {
   "cell_type": "markdown",
   "id": "4a029890-0088-4aeb-ae78-9a94d3e499df",
   "metadata": {},
   "source": [
    "#### Creating a Database"
   ]
  },
  {
   "cell_type": "code",
   "execution_count": 73,
   "id": "09343017-2404-4734-9e25-c90eaa49b690",
   "metadata": {},
   "outputs": [
    {
     "data": {
      "text/plain": [
       "Database(MongoClient(host=['localhost:27017'], document_class=dict, tz_aware=False, connect=True), 'myDB')"
      ]
     },
     "execution_count": 73,
     "metadata": {},
     "output_type": "execute_result"
    }
   ],
   "source": [
    "mongo_db = client[\"myDB\"]\n",
    "mongo_db"
   ]
  },
  {
   "cell_type": "markdown",
   "id": "1fee5c3a-26f3-4262-a60a-ff3d8534e5d5",
   "metadata": {},
   "source": [
    "#### Create a Collection"
   ]
  },
  {
   "cell_type": "code",
   "execution_count": 74,
   "id": "9a0a2f08-a9c0-4a89-8836-94074cebf74e",
   "metadata": {},
   "outputs": [],
   "source": [
    "collection_name = \"Employees\"\n",
    "collection = mongo_db[collection_name]"
   ]
  },
  {
   "cell_type": "markdown",
   "id": "569a00a0-ca43-4d5b-9ea1-eaf745141c47",
   "metadata": {},
   "source": [
    "#### Insert the data into MongoDB Collection "
   ]
  },
  {
   "cell_type": "code",
   "execution_count": 75,
   "id": "95d4e88d-e5c1-4211-a330-9eb3b12c57d1",
   "metadata": {},
   "outputs": [
    {
     "data": {
      "text/plain": [
       "<pymongo.results.InsertManyResult at 0x7f825b5798e0>"
      ]
     },
     "execution_count": 75,
     "metadata": {},
     "output_type": "execute_result"
    }
   ],
   "source": [
    "collection.insert_many(data)"
   ]
  },
  {
   "cell_type": "code",
   "execution_count": 76,
   "id": "6210c59b",
   "metadata": {},
   "outputs": [
    {
     "data": {
      "text/plain": [
       "1470"
      ]
     },
     "execution_count": 76,
     "metadata": {},
     "output_type": "execute_result"
    }
   ],
   "source": [
    "collection.count_documents({})"
   ]
  },
  {
   "cell_type": "markdown",
   "id": "8631dfb2-4e32-4fea-9578-a0541fa7fad1",
   "metadata": {},
   "source": [
    "#### Quering MongoDB"
   ]
  },
  {
   "cell_type": "markdown",
   "id": "80ca5d95-28fd-4e6b-865f-6850ecefae06",
   "metadata": {},
   "source": [
    "##### 1. Counting the employees whose TotalWorkingYears are greater than 20."
   ]
  },
  {
   "cell_type": "code",
   "execution_count": 77,
   "id": "6b6f9ef5-79cf-486d-865d-2167e4e98578",
   "metadata": {},
   "outputs": [
    {
     "data": {
      "text/plain": [
       "207"
      ]
     },
     "execution_count": 77,
     "metadata": {},
     "output_type": "execute_result"
    }
   ],
   "source": [
    "collection.count_documents(\n",
    "    {\"TotalWorkingYears\": {'$gt': 20}}\n",
    ")"
   ]
  },
  {
   "cell_type": "markdown",
   "id": "6732e99f-a07d-4991-b14d-bfc831cda180",
   "metadata": {},
   "source": [
    "##### 2. Finding EmployeeNumber, EducationField, JobRole for all the employees whose Age is between 25 and 30 and Education is 5. "
   ]
  },
  {
   "cell_type": "code",
   "execution_count": 78,
   "id": "fd30a490-7cfb-43eb-bdbe-91305555084d",
   "metadata": {},
   "outputs": [
    {
     "name": "stdout",
     "output_type": "stream",
     "text": [
      "EmployeeNumber \t\t JobRole \t\t EducationField\n",
      "-----------------------------------------------------------------\n",
      "455\t\tLaboratory Technician\t\tOther\t\t\n",
      "565\t\tResearch Scientist\t\tTechnical Degree\t\t\n",
      "747\t\tSales Executive\t\tMarketing\t\t\n",
      "1094\t\tLaboratory Technician\t\tLife Sciences\t\t\n"
     ]
    }
   ],
   "source": [
    "employees = collection.find(\n",
    "    {\"$and\": [\n",
    "    {\"Age\": {\"$gte\": 25}},\n",
    "    {\"Age\": {\"$lte\": 30}},\n",
    "    {\"Education\" : 5 }    \n",
    "    ]},\n",
    "    {'EmployeeNumber', 'EducationField','JobRole'})\n",
    "# list(employees)\n",
    "\n",
    "print('EmployeeNumber','\\t\\t', 'JobRole','\\t\\t','EducationField')\n",
    "print('-----------------------------------------------------------------')\n",
    "for em in employees:\n",
    "    print('{0}\\t\\t{1}\\t\\t{2}\\t\\t'.format(em['EmployeeNumber'],em['JobRole'],em['EducationField']))\n"
   ]
  },
  {
   "cell_type": "markdown",
   "id": "b9bf68aa-4c1c-4368-b645-9faa547f9ba9",
   "metadata": {},
   "source": [
    "##### 3. For all the women employees having Age between 35 and 40 and TotalWorkingYears < 5, sorting EmployeeNumber in an ascending order. Printing only Department and EmployeeNumber in the output. "
   ]
  },
  {
   "cell_type": "code",
   "execution_count": 79,
   "id": "d2573e57-5145-4294-baa8-dd85c98462db",
   "metadata": {},
   "outputs": [
    {
     "name": "stdout",
     "output_type": "stream",
     "text": [
      "EmployeeNumber \t \t Department\n",
      "-----------------------------------------------------------------\n",
      "49\t\t\tSales\n",
      "75\t\t\tResearch & Development\n",
      "245\t\t\tResearch & Development\n",
      "805\t\t\tSales\n",
      "1569\t\t\tResearch & Development\n",
      "1662\t\t\tResearch & Development\n",
      "1675\t\t\tResearch & Development\n",
      "1886\t\t\tResearch & Development\n",
      "2052\t\t\tResearch & Development\n"
     ]
    }
   ],
   "source": [
    "employees = collection.find(\n",
    "    {\"$and\": [\n",
    "    {\"Gender\" : \"Female\"},\n",
    "    {\"Age\": {\"$gte\": 35}},\n",
    "    {\"Age\": {\"$lte\": 40}},\n",
    "    {\"TotalWorkingYears\" : {\"$lt\": 5} }    \n",
    "    ]},\n",
    "    {'Department', 'EmployeeNumber','TotalWorkingYears'}).sort(\"EmployeeNumber\")\n",
    "\n",
    "\n",
    "print('EmployeeNumber','\\t','\\t','Department')\n",
    "print('-----------------------------------------------------------------')\n",
    "for em in employees:\n",
    "    print('{0}\\t\\t\\t{1}'.format(em['EmployeeNumber'],em['Department']))\n"
   ]
  },
  {
   "cell_type": "markdown",
   "id": "56b94656-ce30-417f-b064-fa9a666dde38",
   "metadata": {},
   "source": [
    "##### 4. Finding employees whose HourlyRate is greater than or equal to 100 or DailyRate is greater than 1490. Displaying Age, HourlyRate, DailyRate, and Department only and sorting DailyRate in an ascending order.  "
   ]
  },
  {
   "cell_type": "code",
   "execution_count": 80,
   "id": "ae0b2969-5269-40f4-9fce-8e6ebfc783b6",
   "metadata": {},
   "outputs": [
    {
     "name": "stdout",
     "output_type": "stream",
     "text": [
      "Age \t\t HourlyRate \t\t DailyRate \t\t Department\n",
      "-----------------------------------------------------------------------------\n",
      "31\t\t\t100\t\t\t218\t\tSales\n",
      "29\t\t\t100\t\t\t224\t\tResearch & Development\n",
      "45\t\t\t100\t\t\t306\t\tSales\n",
      "38\t\t\t100\t\t\t345\t\tSales\n",
      "35\t\t\t100\t\t\t528\t\tHuman Resources\n",
      "22\t\t\t100\t\t\t594\t\tResearch & Development\n",
      "19\t\t\t100\t\t\t602\t\tSales\n",
      "26\t\t\t100\t\t\t652\t\tResearch & Development\n",
      "34\t\t\t100\t\t\t702\t\tResearch & Development\n",
      "32\t\t\t100\t\t\t976\t\tSales\n",
      "21\t\t\t100\t\t\t996\t\tResearch & Development\n",
      "37\t\t\t100\t\t\t1040\t\tResearch & Development\n",
      "50\t\t\t100\t\t\t1046\t\tResearch & Development\n",
      "36\t\t\t100\t\t\t1120\t\tSales\n",
      "33\t\t\t100\t\t\t1198\t\tResearch & Development\n",
      "32\t\t\t100\t\t\t1311\t\tResearch & Development\n",
      "38\t\t\t100\t\t\t1336\t\tHuman Resources\n",
      "31\t\t\t100\t\t\t1445\t\tResearch & Development\n",
      "40\t\t\t100\t\t\t1479\t\tSales\n",
      "40\t\t\t61\t\t\t1492\t\tResearch & Development\n",
      "38\t\t\t76\t\t\t1495\t\tResearch & Development\n",
      "49\t\t\t96\t\t\t1495\t\tResearch & Development\n",
      "38\t\t\t87\t\t\t1495\t\tResearch & Development\n",
      "29\t\t\t41\t\t\t1496\t\tResearch & Development\n",
      "28\t\t\t92\t\t\t1496\t\tSales\n",
      "39\t\t\t44\t\t\t1498\t\tSales\n",
      "60\t\t\t80\t\t\t1499\t\tSales\n"
     ]
    }
   ],
   "source": [
    "employees = collection.find(\n",
    "    {\"$or\": [\n",
    "    {\"HourlyRate\" : {\"$gte\": 100}},\n",
    "    {\"DailyRate\": {\"$gt\": 1490}}   \n",
    "    ]},\n",
    "    {'Age', 'HourlyRate','DailyRate', 'Department'}).sort(\"DailyRate\",1)\n",
    "\n",
    "# Sorting wrt DailyRate in ascending order\n",
    "print('Age','\\t\\t', 'HourlyRate','\\t\\t','DailyRate','\\t\\t','Department')\n",
    "print('-----------------------------------------------------------------------------')\n",
    "for em in employees:\n",
    "    print('{0}\\t\\t\\t{1}\\t\\t\\t{2}\\t\\t{3}'.format(em['Age'],em['HourlyRate'],em['DailyRate'],em['Department']))\n"
   ]
  },
  {
   "cell_type": "markdown",
   "id": "e4d44246-3ea0-4c32-8a70-6fdc23e1b24b",
   "metadata": {},
   "source": [
    "##### 5. For each JobRole, finding the average MonthlyIncome. Printing out the formatted monthly incomes in hundredth and arrange them in descending order."
   ]
  },
  {
   "cell_type": "code",
   "execution_count": 81,
   "id": "13e368ff-b7c2-4e8e-8c3d-e1c54bfba532",
   "metadata": {},
   "outputs": [
    {
     "name": "stdout",
     "output_type": "stream",
     "text": [
      "Job Role \t Average MonthlyIncome\n",
      "---------------------------------\n",
      "Manager \t\t\t 17181.68\n",
      "Research Director \t\t\t 16033.55\n",
      "Healthcare Representative \t\t\t 7528.76\n",
      "Manufacturing Director \t\t\t 7295.14\n",
      "Sales Executive \t\t\t 6924.28\n",
      "Human Resources \t\t\t 4235.75\n",
      "Research Scientist \t\t\t 3239.97\n",
      "Laboratory Technician \t\t\t 3237.17\n",
      "Sales Representative \t\t\t 2626.00\n"
     ]
    }
   ],
   "source": [
    "result = collection.aggregate([\n",
    "    {\"$group\" : {\n",
    "        \"_id\" : \"$JobRole\",  \n",
    "        \"avg_monthly_income\" : {\"$avg\" : '$MonthlyIncome'}\n",
    "    }},\n",
    "    {\"$sort\" : {\n",
    "        \"avg_monthly_income\": -1}\n",
    "    }\n",
    "])\n",
    "\n",
    "# print formatted outputs\n",
    "print('Job Role', '\\t', 'Average MonthlyIncome')\n",
    "print('---------------------------------')\n",
    "for x in result:\n",
    "    print(x['_id'],'\\t\\t\\t','{:.2f}'.format(x['avg_monthly_income']))"
   ]
  },
  {
   "cell_type": "markdown",
   "id": "f0bdadc8-eb7f-4e37-a686-dd9b072ca981",
   "metadata": {},
   "source": [
    "##### 6. Counting the different MaritalStatus when Attrition is YES and AGE is greater than 35 in the dataset. Arranging the count in descending order."
   ]
  },
  {
   "cell_type": "code",
   "execution_count": 82,
   "id": "0d30eb9b-9352-47df-a6b9-3dd9bfc6b2d7",
   "metadata": {},
   "outputs": [
    {
     "data": {
      "text/plain": [
       "[{'_id': 'Married', 'count': 33},\n",
       " {'_id': 'Single', 'count': 30},\n",
       " {'_id': 'Divorced', 'count': 14}]"
      ]
     },
     "execution_count": 82,
     "metadata": {},
     "output_type": "execute_result"
    }
   ],
   "source": [
    "result = collection.aggregate([\n",
    "    {'$match': {\n",
    "       \"$and\": [\n",
    "        {\"Attrition\": \"Yes\"},\n",
    "        {\"Age\": {\"$gt\": 35}}      \n",
    "       ]\n",
    "    }}, \n",
    "    {\"$group\" : {\n",
    "        \"_id\" : \"$MaritalStatus\",  \n",
    "        \"count\" : {\"$sum\" : 1}\n",
    "    }},\n",
    "    {\"$sort\" : {\n",
    "        \"count\": -1}\n",
    "    }\n",
    "])\n",
    "list(result)"
   ]
  }
 ],
 "metadata": {
  "kernelspec": {
   "display_name": "Python 3 (ipykernel)",
   "language": "python",
   "name": "python3"
  },
  "language_info": {
   "codemirror_mode": {
    "name": "ipython",
    "version": 3
   },
   "file_extension": ".py",
   "mimetype": "text/x-python",
   "name": "python",
   "nbconvert_exporter": "python",
   "pygments_lexer": "ipython3",
   "version": "3.9.7"
  }
 },
 "nbformat": 4,
 "nbformat_minor": 5
}
